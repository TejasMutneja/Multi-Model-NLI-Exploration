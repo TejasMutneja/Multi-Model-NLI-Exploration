{
  "nbformat": 4,
  "nbformat_minor": 0,
  "metadata": {
    "colab": {
      "provenance": [],
      "gpuType": "T4"
    },
    "kernelspec": {
      "name": "python3",
      "display_name": "Python 3"
    },
    "language_info": {
      "name": "python"
    },
    "accelerator": "GPU"
  },
  "cells": [
    {
      "cell_type": "markdown",
      "source": [
        "# **Multi‐Model NLI Exploration**\n",
        "\n",
        "Using the dataset at https://www.kaggle.com/c/contradictory-my-dear-watson/data, building a classification model to predict whether two sentences are in:\n",
        "\n",
        "1. Entailment\n",
        "\n",
        "2. Neutral\n",
        "\n",
        "3. Contradiction\n",
        "\n",
        "Steps:\n",
        "\n",
        "Pre-processing the data\n",
        "\n",
        "Performing exploratory data analysis\n",
        "\n",
        "Using BERT to build the model\n",
        "\n",
        "Using GPT to build the model"
      ],
      "metadata": {
        "id": "xKfyrEq-ahHs"
      }
    },
    {
      "cell_type": "markdown",
      "source": [
        "# **Pre-process and label-flip check**"
      ],
      "metadata": {
        "id": "udhtkSFKdPXV"
      }
    },
    {
      "cell_type": "code",
      "execution_count": null,
      "metadata": {
        "colab": {
          "base_uri": "https://localhost:8080/"
        },
        "id": "xG5kbfupXCPD",
        "outputId": "8da3e8de-801c-444a-aa7b-bdd0b3a931d1"
      },
      "outputs": [
        {
          "output_type": "stream",
          "name": "stdout",
          "text": [
            "🗂️  Loaded → train: (12120, 6), test: (5195, 5)\n",
            "\n",
            "✂️  After dropna → train: (12120, 6)\n",
            "\n",
            "📊 Raw numeric label proportions:\n",
            "       proportion\n",
            "label            \n",
            "0        0.344554\n",
            "1        0.320132\n",
            "2        0.335314 \n",
            "\n",
            "🔍  Two random examples for each numeric label:\n",
            "\n",
            "### numeric 0\n",
            "\n",
            "Premise   : She did not reply.\n",
            "Hypothesis: She was silent. \n",
            "\n",
            "Premise   : ان گھروں کو پیدا کرنے کی لاگت اس سے کہیں زیادہ ہے کہ ہمارے خریداروں کے\n",
            "    سینٹی میٹر ادا کیا جاسکے، لہذا ہم ان کو سستی رکھنے اور انفرادی عطیات\n",
            "    پر بھروسہ کرتے ہیں.\n",
            "Hypothesis: گھروں کو مطلوبہ وسائل کی ضرورت ہے. \n",
            "\n",
            "### numeric 1\n",
            "\n",
            "Premise   : من ناحية أخرى ، حصل على مارك توين بينه وبين ضوء النهار.\n",
            "Hypothesis: لم ير ضوء النهار منذ سنوات. \n",
            "\n",
            "Premise   : Kentucky officials say there is a virtual epidemic of abusive\n",
            "    relationships in the state.\n",
            "Hypothesis: Kentucky has the highest rate of domestic abuse. \n",
            "\n",
            "### numeric 2\n",
            "\n",
            "Premise   : Prudence, unsere Beraterkolumnistin, hat sich zurückgezogen, und ihre\n",
            "    Kolumne wurde von ihrer Nichte, auch Prudence genannt, übernommen.\n",
            "Hypothesis: Prudence wird auch noch in 10 Jahren unsere Kolumnistin für Ratschläge\n",
            "    sein. \n",
            "\n",
            "Premise   : En tant que membre du Cercle intérieur, vous pouvez vous attendre à\n",
            "    obtenir parmi les meilleurs sièges du stand d'examen pour la plus\n",
            "    grande célébration de la démocratie au monde - la 52e inauguration\n",
            "    présidentielle américaine.\n",
            "Hypothesis: Le but de l'investiture présidentielle américaine est de célébrer les\n",
            "    dictatures du monde \n",
            "\n",
            "\n",
            "✂️  Split sizes → train_df: (10908, 6), val_df: (1212, 6)\n"
          ]
        }
      ],
      "source": [
        "\n",
        "import pandas as pd\n",
        "from sklearn.model_selection import train_test_split\n",
        "import textwrap\n",
        "\n",
        "#  Load raw CSVs\n",
        "train = pd.read_csv(\"train.csv\")\n",
        "test  = pd.read_csv(\"test.csv\")\n",
        "print(f\"🗂️  Loaded → train: {train.shape}, test: {test.shape}\\n\")\n",
        "\n",
        "#  Dropping any rows missing premise, hypothesis, or label\n",
        "train = train.dropna(subset=[\"premise\",\"hypothesis\",\"label\"])\n",
        "train[\"label\"] = train[\"label\"].astype(int)\n",
        "print(f\"✂️  After dropna → train: {train.shape}\\n\")\n",
        "\n",
        "# Show raw numeric distribution\n",
        "print(\"📊 Raw numeric label proportions:\")\n",
        "print(train[\"label\"].value_counts(normalize=True).sort_index().to_frame(\"proportion\"), \"\\n\")\n",
        "\n",
        "# Showing two examples per label\n",
        "print(\"🔍  Two random examples for each numeric label:\\n\")\n",
        "wrap = lambda s: \"\\n    \".join(textwrap.wrap(s, 70))\n",
        "for lbl in [0,1,2]:\n",
        "    sample = train.query(\"label == @lbl\").sample(2, random_state=lbl)\n",
        "    print(f\"### numeric {lbl}\\n\")\n",
        "    for _, row in sample.iterrows():\n",
        "        print(\"Premise   :\", wrap(row.premise))\n",
        "        print(\"Hypothesis:\", wrap(row.hypothesis), \"\\n\")\n",
        "\n",
        "#  Flipping numeric codes because  numeric 0 looked like entailment and 2 looked like contradiction, do:\n",
        "flip = {0:2, 1:1, 2:0}\n",
        "train[\"label\"] = train[\"label\"].map(flip)\n",
        "\n",
        "\n",
        "\n",
        "#  Stratified 90% / 10% split\n",
        "train_df, val_df = train_test_split(\n",
        "    train, test_size=0.10, stratify=train[\"label\"], random_state=42\n",
        ")\n",
        "train_df = train_df.reset_index(drop=True)\n",
        "val_df   = val_df.reset_index(drop=True)\n",
        "print(f\"\\n✂️  Split sizes → train_df: {train_df.shape}, val_df: {val_df.shape}\")\n"
      ]
    },
    {
      "cell_type": "markdown",
      "source": [
        "# **Data Exploration**"
      ],
      "metadata": {
        "id": "OI1qQbhjdia2"
      }
    },
    {
      "cell_type": "code",
      "source": [
        "import matplotlib.pyplot as plt\n",
        "\n",
        "# Premise / Hypothesis length distributions\n",
        "prem_lengths = train_df['premise'].str.split().map(len)\n",
        "hyp_lengths  = train_df['hypothesis'].str.split().map(len)\n",
        "\n",
        "plt.figure()\n",
        "plt.hist(prem_lengths, bins=30)\n",
        "plt.title(\"Premise Length Distribution\")\n",
        "plt.xlabel(\"Words per premise\")\n",
        "plt.ylabel(\"Frequency\")\n",
        "plt.show()\n",
        "\n",
        "plt.figure()\n",
        "plt.hist(hyp_lengths, bins=30)\n",
        "plt.title(\"Hypothesis Length Distribution\")\n",
        "plt.xlabel(\"Words per hypothesis\")\n",
        "plt.ylabel(\"Frequency\")\n",
        "plt.show()\n",
        "\n",
        "#  Language distribution\n",
        "lang_counts = train_df['language'].value_counts()\n",
        "plt.figure()\n",
        "plt.bar(lang_counts.index, lang_counts.values)\n",
        "plt.xticks(rotation=45, ha='right')\n",
        "plt.title(\"Languages in Training Set\")\n",
        "plt.ylabel(\"Count\")\n",
        "plt.tight_layout()\n",
        "plt.show()\n",
        "\n",
        "# Label distribution\n",
        "# After flipping, train_df['label'] should now be: 0=contradiction,1=neutral,2=entailment\n",
        "label_counts = train_df['label'].value_counts().sort_index()\n",
        "plt.figure()\n",
        "plt.bar([\"contradiction\",\"neutral\",\"entailment\"], label_counts.values)\n",
        "plt.title(\"Label Distribution (post‐flip)\")\n",
        "plt.ylabel(\"Count\")\n",
        "plt.show()\n"
      ],
      "metadata": {
        "colab": {
          "base_uri": "https://localhost:8080/",
          "height": 1000
        },
        "id": "dMwXW7ljzVSr",
        "outputId": "f0d4c009-437d-4770-f8ec-888e54afb369"
      },
      "execution_count": null,
      "outputs": [
        {
          "output_type": "display_data",
          "data": {
            "text/plain": [
              "<Figure size 640x480 with 1 Axes>"
            ],
            "image/png": "[encoded data removed]"
          },
          "metadata": {}
        },
        {
          "output_type": "display_data",
          "data": {
            "text/plain": [
              "<Figure size 640x480 with 1 Axes>"
            ],
            "image/png": "[encoded data removed]"
          },
          "metadata": {}
        },
        {
          "output_type": "display_data",
          "data": {
            "text/plain": [
              "<Figure size 640x480 with 1 Axes>"
            ],
            "image/png": "[encoded data removed]"
          },
          "metadata": {}
        },
        {
          "output_type": "display_data",
          "data": {
            "text/plain": [
              "<Figure size 640x480 with 1 Axes>"
            ],
            "image/png": "[encoded data removed]"
          },
          "metadata": {}
        }
      ]
    },
    {
      "cell_type": "code",
      "source": [
        "!pip -q install -U transformers datasets evaluate accelerate scikit-learn matplotlib\n",
        "\n",
        "import numpy as np\n",
        "import torch\n",
        "import pandas as pd\n",
        "import matplotlib.pyplot as plt\n",
        "from datasets import Dataset, DatasetDict\n",
        "from transformers import (\n",
        "    AutoTokenizer,\n",
        "    AutoModelForSequenceClassification,\n",
        "    TrainingArguments,\n",
        "    Trainer\n",
        ")\n",
        "from evaluate import load\n",
        "from sklearn.metrics import classification_report, ConfusionMatrixDisplay\n"
      ],
      "metadata": {
        "id": "M9LHWyu6znvr"
      },
      "execution_count": null,
      "outputs": []
    },
    {
      "cell_type": "markdown",
      "source": [
        "# **Fine‐tuning BERT‐base‐multilingual‐cased with EarlyStopping**"
      ],
      "metadata": {
        "id": "u8c7D8rIdoKx"
      }
    },
    {
      "cell_type": "code",
      "source": [
        "\n",
        "!pip -q install -U transformers datasets evaluate scikit-learn matplotlib\n",
        "\n",
        "import numpy as np\n",
        "import torch\n",
        "import matplotlib.pyplot as plt\n",
        "from datasets import Dataset, DatasetDict\n",
        "from transformers import (\n",
        "    AutoTokenizer,\n",
        "    AutoModelForSequenceClassification,\n",
        "    TrainingArguments,\n",
        "    Trainer,\n",
        "    EarlyStoppingCallback\n",
        ")\n",
        "from evaluate import load\n",
        "from sklearn.metrics import classification_report, ConfusionMatrixDisplay\n",
        "\n",
        "#   Tokenisation (reuses train_df/val_df)\n",
        "model_ckpt = \"bert-base-multilingual-cased\"\n",
        "tokenizer = AutoTokenizer.from_pretrained(model_ckpt)\n",
        "\n",
        "def tokenize_fn(batch):\n",
        "    enc = tokenizer(\n",
        "        batch[\"premise\"], batch[\"hypothesis\"],\n",
        "        truncation=True, padding=\"max_length\", max_length=256\n",
        "    )\n",
        "    enc[\"labels\"] = batch[\"label\"]\n",
        "    return enc\n",
        "\n",
        "drop_cols = [\"id\",\"premise\",\"hypothesis\",\"lang_abv\",\"language\",\"label\"]\n",
        "train_ds = Dataset.from_pandas(train_df.reset_index(drop=True))\n",
        "val_ds   = Dataset.from_pandas(val_df.reset_index(drop=True))\n",
        "\n",
        "tokenised = DatasetDict({\n",
        "    \"train\": train_ds.map(tokenize_fn, batched=True, remove_columns=drop_cols),\n",
        "    \"val\"  : val_ds.map(tokenize_fn,   batched=True, remove_columns=drop_cols)\n",
        "}).with_format(\"torch\")\n",
        "\n",
        "#  Model init\n",
        "model = AutoModelForSequenceClassification.from_pretrained(\n",
        "    model_ckpt,\n",
        "    num_labels=3,\n",
        "    id2label={0:\"contradiction\",1:\"neutral\",2:\"entailment\"},\n",
        "    label2id={\"contradiction\":0,\"neutral\":1,\"entailment\":2}\n",
        ")\n",
        "\n",
        "#  TrainingArguments with EarlyStopping\n",
        "args = TrainingArguments(\n",
        "    output_dir=\"bert-multilang-watson\",\n",
        "    eval_strategy=\"epoch\",    # or eval_strategy=\"epoch\" on older TF versions\n",
        "    save_strategy=\"epoch\",\n",
        "    save_total_limit=2,\n",
        "    num_train_epochs=10,            # up to 10 epochs\n",
        "    per_device_train_batch_size=8,\n",
        "    per_device_eval_batch_size=16,\n",
        "    learning_rate=2e-5,\n",
        "    weight_decay=0.01,\n",
        "    warmup_ratio=0.10,\n",
        "    fp16=torch.cuda.is_available(),\n",
        "    load_best_model_at_end=True,\n",
        "    metric_for_best_model=\"eval_accuracy\",\n",
        "    seed=42,\n",
        "    report_to=\"none\",\n",
        ")\n",
        "\n",
        "# Metrics\n",
        "accuracy = load(\"accuracy\")\n",
        "f1       = load(\"f1\")\n",
        "def compute_metrics(p):\n",
        "    preds = np.argmax(p.predictions, axis=-1)\n",
        "    return {\n",
        "        \"accuracy\": accuracy.compute(predictions=preds, references=p.label_ids)[\"accuracy\"],\n",
        "        \"macro_f1\": f1.compute(predictions=preds, references=p.label_ids, average=\"macro\")[\"f1\"]\n",
        "    }\n",
        "\n",
        "#  Trainer with EarlyStoppingCallback\n",
        "trainer = Trainer(\n",
        "    model=model,\n",
        "    args=args,\n",
        "    train_dataset=tokenised[\"train\"],\n",
        "    eval_dataset=tokenised[\"val\"],\n",
        "    compute_metrics=compute_metrics,\n",
        "    callbacks=[EarlyStoppingCallback(early_stopping_patience=2)]\n",
        ")\n",
        "\n",
        "print(\"🚀 Fine‐tuning BERT (up to 10 epochs with early stop)…\")\n",
        "trainer.train()\n",
        "\n",
        "#  Validation report\n",
        "preds = trainer.predict(tokenised[\"val\"]).predictions.argmax(-1)\n",
        "print(\"\\nValidation Classification Report:\")\n",
        "print(classification_report(val_df[\"label\"], preds,\n",
        "                            target_names=[\"contradiction\",\"neutral\",\"entailment\"]))\n",
        "\n",
        "ConfusionMatrixDisplay.from_predictions(\n",
        "    val_df[\"label\"], preds,\n",
        "    display_labels=[\"contradiction\",\"neutral\",\"entailment\"], cmap=\"Blues\"\n",
        ")\n",
        "plt.show()\n"
      ],
      "metadata": {
        "colab": {
          "base_uri": "https://localhost:8080/",
          "height": 1000,
          "referenced_widgets": [
            "b01a27f980aa4bb4b8175ce4f306fab9",
            "1ea12e610f524ddc978b6e64280f49d0",
            "0d016027972345dc8096cc2e51980626",
            "4dd812ade5fd4baa8a3b7a9dfab92ca9",
            "ae87793ab76d4739b3d7d4174ae9d6b7",
            "0edc1be310ae46e698251d09b09d2deb",
            "61b7bc88ec52418fa1b043dfa9ea635b",
            "b3bb09c990484172bd52ce94e1368a05",
            "47c0ffaa478c471a8cc54dcf45572607",
            "55e9681c612a40eeb154693c55636020",
            "d53b2c8bd51342fda3dc998e7a91087b",
            "150b42c1e61e426288a0a4491b3ac811",
            "175e504d523b46089b961c5250eabb96",
            "369bdd1c3a9a4701a89eab942f4fe7bd",
            "62d37368d5484f69846f453ae9c1e21d",
            "74616a3cdc114f939b630bae9faf0e3f",
            "9abfcf4496174331872d2456f33234a8",
            "90685d8ed6774396b5cc6994a32045a3",
            "a337dbd92396478f9da1a7573d2668be",
            "1340b6aab8e845d39ded7d4d00799526",
            "aee0b97810634f8f934314a537c3bd42",
            "fa6d29ee85974a1faad0b32741914340",
            "1284f183ea9e414fa0fbf4fea1d335c7",
            "55d3288e629649299abc3a05faa9c6a8",
            "2fa9372e94cb4ad0bbd91fc8f460f354",
            "ec37207d2bdf428089098777a0afa63f",
            "0319ca0738bb4ac8ae7a48664831533f",
            "a75ebd81b66a47dfbab49c81dc51b11b",
            "6bd52d9ebc164ae489f46d99b6e22fd8",
            "c3aedc54d3054c1eb9dacf56ddee0ed6",
            "4d124b7aa9914176840b5ec79585325c",
            "5bcb63ac9bd64c7093edeea7a1f719e2",
            "a23741a4917b490d82aade0e3b510b5f"
          ]
        },
        "id": "U04_wKOU0gRF",
        "outputId": "3589d2a3-c1bd-4519-e19c-daf3121a2818"
      },
      "execution_count": null,
      "outputs": [
        {
          "output_type": "display_data",
          "data": {
            "text/plain": [
              "Map:   0%|          | 0/10908 [00:00<?, ? examples/s]"
            ],
            "application/vnd.jupyter.widget-view+json": {
              "version_major": 2,
              "version_minor": 0,
              "model_id": "b01a27f980aa4bb4b8175ce4f306fab9"
            }
          },
          "metadata": {}
        },
        {
          "output_type": "display_data",
          "data": {
            "text/plain": [
              "Map:   0%|          | 0/1212 [00:00<?, ? examples/s]"
            ],
            "application/vnd.jupyter.widget-view+json": {
              "version_major": 2,
              "version_minor": 0,
              "model_id": "150b42c1e61e426288a0a4491b3ac811"
            }
          },
          "metadata": {}
        },
        {
          "output_type": "stream",
          "name": "stderr",
          "text": [
            "Xet Storage is enabled for this repo, but the 'hf_xet' package is not installed. Falling back to regular HTTP download. For better performance, install the package with: `pip install huggingface_hub[hf_xet]` or `pip install hf_xet`\n",
            "WARNING:huggingface_hub.file_download:Xet Storage is enabled for this repo, but the 'hf_xet' package is not installed. Falling back to regular HTTP download. For better performance, install the package with: `pip install huggingface_hub[hf_xet]` or `pip install hf_xet`\n"
          ]
        },
        {
          "output_type": "display_data",
          "data": {
            "text/plain": [
              "model.safetensors:  46%|####5     | 325M/714M [00:00<?, ?B/s]"
            ],
            "application/vnd.jupyter.widget-view+json": {
              "version_major": 2,
              "version_minor": 0,
              "model_id": "1284f183ea9e414fa0fbf4fea1d335c7"
            }
          },
          "metadata": {}
        },
        {
          "output_type": "stream",
          "name": "stderr",
          "text": [
            "Some weights of BertForSequenceClassification were not initialized from the model checkpoint at bert-base-multilingual-cased and are newly initialized: ['classifier.bias', 'classifier.weight']\n",
            "You should probably TRAIN this model on a down-stream task to be able to use it for predictions and inference.\n"
          ]
        },
        {
          "output_type": "stream",
          "name": "stdout",
          "text": [
            "🚀 Fine‐tuning BERT (up to 10 epochs with early stop)…\n"
          ]
        },
        {
          "output_type": "display_data",
          "data": {
            "text/plain": [
              "<IPython.core.display.HTML object>"
            ],
            "text/html": [
              "\n",
              "    <div>\n",
              "      \n",
              "      <progress value='6820' max='13640' style='width:300px; height:20px; vertical-align: middle;'></progress>\n",
              "      [ 6820/13640 22:18 < 22:19, 5.09 it/s, Epoch 5/10]\n",
              "    </div>\n",
              "    <table border=\"1\" class=\"dataframe\">\n",
              "  <thead>\n",
              " <tr style=\"text-align: left;\">\n",
              "      <th>Epoch</th>\n",
              "      <th>Training Loss</th>\n",
              "      <th>Validation Loss</th>\n",
              "      <th>Accuracy</th>\n",
              "      <th>Macro F1</th>\n",
              "    </tr>\n",
              "  </thead>\n",
              "  <tbody>\n",
              "    <tr>\n",
              "      <td>1</td>\n",
              "      <td>0.964400</td>\n",
              "      <td>0.900943</td>\n",
              "      <td>0.591584</td>\n",
              "      <td>0.589333</td>\n",
              "    </tr>\n",
              "    <tr>\n",
              "      <td>2</td>\n",
              "      <td>0.768000</td>\n",
              "      <td>0.813413</td>\n",
              "      <td>0.646865</td>\n",
              "      <td>0.646634</td>\n",
              "    </tr>\n",
              "    <tr>\n",
              "      <td>3</td>\n",
              "      <td>0.526900</td>\n",
              "      <td>0.954589</td>\n",
              "      <td>0.647690</td>\n",
              "      <td>0.647586</td>\n",
              "    </tr>\n",
              "    <tr>\n",
              "      <td>4</td>\n",
              "      <td>0.392400</td>\n",
              "      <td>1.337032</td>\n",
              "      <td>0.624587</td>\n",
              "      <td>0.624733</td>\n",
              "    </tr>\n",
              "    <tr>\n",
              "      <td>5</td>\n",
              "      <td>0.313700</td>\n",
              "      <td>1.875277</td>\n",
              "      <td>0.646865</td>\n",
              "      <td>0.646262</td>\n",
              "    </tr>\n",
              "  </tbody>\n",
              "</table><p>"
            ]
          },
          "metadata": {}
        },
        {
          "output_type": "display_data",
          "data": {
            "text/plain": [
              "<IPython.core.display.HTML object>"
            ],
            "text/html": []
          },
          "metadata": {}
        },
        {
          "output_type": "stream",
          "name": "stdout",
          "text": [
            "\n",
            "Validation Classification Report:\n",
            "               precision    recall  f1-score   support\n",
            "\n",
            "contradiction       0.62      0.63      0.63       406\n",
            "      neutral       0.64      0.65      0.65       388\n",
            "   entailment       0.68      0.66      0.67       418\n",
            "\n",
            "     accuracy                           0.65      1212\n",
            "    macro avg       0.65      0.65      0.65      1212\n",
            " weighted avg       0.65      0.65      0.65      1212\n",
            "\n"
          ]
        },
        {
          "output_type": "display_data",
          "data": {
            "text/plain": [
              "<Figure size 640x480 with 2 Axes>"
            ],
            "image/png": "[encoded data removed]"
          },
          "metadata": {}
        }
      ]
    },
    {
      "cell_type": "markdown",
      "source": [
        "# **Fine-tuning morit/xlm-t-roberta-base-mnli-xnli on Watson**"
      ],
      "metadata": {
        "id": "eCDdIyq4d3IT"
      }
    },
    {
      "cell_type": "code",
      "source": [
        "\n",
        "!pip -q install -U transformers datasets evaluate scikit-learn matplotlib accelerate\n",
        "\n",
        "import numpy as np\n",
        "import torch\n",
        "import matplotlib.pyplot as plt\n",
        "from datasets import Dataset, DatasetDict\n",
        "from transformers import (\n",
        "    AutoTokenizer,\n",
        "    AutoModelForSequenceClassification,\n",
        "    TrainingArguments,\n",
        "    Trainer\n",
        ")\n",
        "from evaluate import load\n",
        "from sklearn.metrics import classification_report, ConfusionMatrixDisplay\n",
        "\n",
        "#  Tokenisation (max_length=128)\n",
        "tokenizer = AutoTokenizer.from_pretrained(\"morit/xlm-t-roberta-base-mnli-xnli\")\n",
        "def tokenize_fn(batch):\n",
        "    enc = tokenizer(\n",
        "        batch[\"premise\"],\n",
        "        batch[\"hypothesis\"],\n",
        "        truncation=True,\n",
        "        padding=\"max_length\",\n",
        "        max_length=128\n",
        "    )\n",
        "    enc[\"labels\"] = batch[\"label\"]\n",
        "    return enc\n",
        "\n",
        "drop = [\"id\",\"premise\",\"hypothesis\",\"lang_abv\",\"language\",\"label\"]\n",
        "train_ds = Dataset.from_pandas(train_df.reset_index(drop=True))\n",
        "val_ds   = Dataset.from_pandas(val_df.reset_index(drop=True))\n",
        "data = DatasetDict({\n",
        "    \"train\": train_ds.map(tokenize_fn, batched=True, remove_columns=drop),\n",
        "    \"val\"  : val_ds.map(tokenize_fn,   batched=True, remove_columns=drop)\n",
        "}).with_format(\"torch\")\n",
        "\n",
        "#  Load the MNLI+XNLI–finetuned model\n",
        "model = AutoModelForSequenceClassification.from_pretrained(\n",
        "    \"morit/xlm-t-roberta-base-mnli-xnli\",\n",
        "    num_labels=3,\n",
        "    id2label={0:\"contradiction\",1:\"neutral\",2:\"entailment\"},\n",
        "    label2id={\"contradiction\":0,\"neutral\":1,\"entailment\":2}\n",
        ")\n",
        "\n",
        "#  TrainingArguments\n",
        "args = TrainingArguments(\n",
        "    output_dir=\"base-xnli-watson\",\n",
        "    eval_strategy=\"epoch\",\n",
        "    save_strategy=\"epoch\",\n",
        "    save_total_limit=1,\n",
        "    num_train_epochs=3,\n",
        "    per_device_train_batch_size=8,\n",
        "    per_device_eval_batch_size=16,\n",
        "    learning_rate=5e-6,\n",
        "    weight_decay=0.01,\n",
        "    warmup_ratio=0.10,\n",
        "    fp16=torch.cuda.is_available(),\n",
        "    load_best_model_at_end=True,\n",
        "    metric_for_best_model=\"eval_accuracy\",\n",
        "    seed=42,\n",
        "    report_to=\"none\",\n",
        ")\n",
        "\n",
        "#  Metrics\n",
        "acc = load(\"accuracy\"); f1 = load(\"f1\")\n",
        "def compute_metrics(p):\n",
        "    preds = np.argmax(p.predictions, axis=-1)\n",
        "    return {\n",
        "        \"accuracy\": acc.compute(predictions=preds, references=p.label_ids)[\"accuracy\"],\n",
        "        \"macro_f1\": f1.compute(predictions=preds, references=p.label_ids, average=\"macro\")[\"f1\"]\n",
        "    }\n",
        "\n",
        "#  Trainer\n",
        "trainer = Trainer(\n",
        "    model=model,\n",
        "    args=args,\n",
        "    train_dataset=data[\"train\"],\n",
        "    eval_dataset=data[\"val\"],\n",
        "    compute_metrics=compute_metrics\n",
        ")\n",
        "print(\"🚀 Fine-tuning XLM-RoBERTa-base-XNLI (3 epochs)…\")\n",
        "trainer.train()\n",
        "\n",
        "#  Validation report\n",
        "val_preds = trainer.predict(data[\"val\"]).predictions.argmax(-1)\n",
        "print(\"\\nValidation Classification Report:\")\n",
        "print(classification_report(val_df[\"label\"], val_preds,\n",
        "                            target_names=[\"contradiction\",\"neutral\",\"entailment\"]))\n",
        "ConfusionMatrixDisplay.from_predictions(\n",
        "    val_df[\"label\"], val_preds,\n",
        "    display_labels=[\"C\",\"N\",\"E\"], cmap=\"Blues\"\n",
        ")\n",
        "plt.show()\n"
      ],
      "metadata": {
        "colab": {
          "base_uri": "https://localhost:8080/",
          "height": 1000,
          "referenced_widgets": [
            "b047833f84314bd5afc825015dbf46ab",
            "3c1359b3040b407094df6640e3a6cda6",
            "89fd8a3e90e449a0b703f4a0201ea6d3",
            "a75d8f09f3db46b4a5eb18376e579c48",
            "d7c8df82865a4bb290f286b60f374bf6",
            "ae84f56f766a45809502ded9561e6cd7",
            "6b18cd809f7f4baaa726b67de12525c2",
            "d42a34b2570d4015900dcaa85f041293",
            "c98344d8f5874c18b43b8da8dc4302f9",
            "03b96dceddb44953bf9271e007877b7f",
            "aa30a229fc3348ad8e31bafb1e59353d",
            "f8e12c64fd7a41829bd4bf5ac43afa1a",
            "a6617351e4c246bcbb62a24953956181",
            "74431759b32047ccae7dd84f17ddeb51",
            "9a771759a63046698994a61c791759d2",
            "abac57a1048a4b658b7b1965aa44900c",
            "a6ffb6b3eecd427a8cae2c9203201468",
            "5ea41383e22748f4987e13398efadcc4",
            "11590460d0aa42c59ced333b27df0424",
            "6233699ecb4b48a99c3d0c6f1ca6012c",
            "5b2e2b708424440581b94a0e96d76946",
            "a639a822ae1e4330a570782a301a756b",
            "4638201b7e194788be63418417071907",
            "16e808c5ceaa4a40af72c18626ddbd97",
            "4c805cbf5d8f4b88beb819600102eaf6",
            "ac5c97e5b6d24714a287a66f480e180a",
            "4951ddc96ba3424485fff2baf5ca004d",
            "911660e8e2124c18967aca341b064a5e",
            "459f712283604068a838608e2a9d9adc",
            "3b12d5ea9c7b448a91dfbc345ba72624",
            "59fb6c79ac414595b6e86548cd5c83bb",
            "a86642379b26430dae4537620f449a34",
            "af80bab2348f43c1b96931e89a66dc3a",
            "a14798c8f21a4f24b88e8dd94855748c",
            "5a648ebb35244bee8ea0e4b489fb78cc",
            "a440ead5f4814e0daa52c70a3a17b0a5",
            "8409a6bc29aa4afc8925232fd6bbb816",
            "fb2d0a728b4148489dbb2d05ae50f553",
            "cc2ad106f5ef463e91e1b0b47bc12c66",
            "d464048dc08241a4b232f8f131ad4f95",
            "5384f9f569154047a05ad265ecd3181e",
            "eacab0da35484aec9f10b6de0715fcf2",
            "dcc2daf7fbfe486fa959c0b0351d80d2",
            "b9d0ce1a138e4f7796aa7a26931b0f77",
            "39ec46d667ba40d0a1f050c8a7f629fe",
            "83291ed6245e444ca99765a18267d662",
            "db12b139c50f4bc5b5f45edec1f8efdb",
            "7f8558f654a547f0869577e8e2fba22e",
            "7cb28560cd4d4206a551d292e8293700",
            "9ccb855bf353404baf7e81e2934b46ef",
            "f7c0b3bc53314b06bd1b8fc7a838a716",
            "c2219f0444f04152a85e110b2cb59631",
            "1f10ad087f224f3c8fa3afe9a1bddab0",
            "6a79a091bb014db9ab40b1d40e2741c0",
            "b408c4559a764ba9923ed3fa1873c838",
            "7008e3b22d684adcaf62cdda61b64be0",
            "49fca7a294d8415a9660c5649d825393",
            "b9edf540aace48c09b6736b008827f2e",
            "b1b59d40b32349c6b003367c1ceb4002",
            "13c487fd712a4afeaf8dd546c1123c75",
            "2187571716c94a3b82b8d48d30583d18",
            "5477ffc237c5485a93c41b47d4848bba",
            "a54a188a8705488eac9e6608ae2d8f41",
            "262600ab6101428693953e65db801b2a",
            "937cd7c24c9f4a61a964b83bff33c73d",
            "8c5feb013f6649d9bf485f8070bdb01d",
            "3192236a244b4e709f6d454564e5ad5a",
            "169bad6cac764e45997cbd01827254cb",
            "dca8cab66c6b4126b058456fc820dcb4",
            "1ed69df5228d484eb77311cf1b38c9f1",
            "adaf99e85ae64204b597250eda2584bb",
            "81906ecc273f4083b3db2b505f2c230c",
            "a7e8ff88437441869d04a0c11557a724",
            "3f3fd6a857544cb4b31ca9fa786a6601",
            "75ce5a5ae9f24da0aa91637a4fd0fa99",
            "51072e71bf9b49f8b08ce989b89b2524",
            "26aaf2be88af42b3b42039c2ca5b1c32",
            "d8bd69d7a3284811a82b794bce97508d",
            "5fe4e6c05c1c4d22bea9ea681a5011dd",
            "d6574a4ab9bb4f3fa01240026a34dced",
            "4a76b1fbc27f4df1b51a7c7ffe5d2373",
            "7c213b79fdd94be38fc0c994c6225179",
            "35f597a926fe4c109f1b72d398f9715f",
            "ea6c292ff2f94968a9bfecfca37da918",
            "1e847909dfa44038b3e3e6e466c19279",
            "0573fde7619e451db54a939d64f327b3",
            "7454f8e57b714711950f0735e273e2a7",
            "91e5e214326d4234ae5334a33596e67b"
          ]
        },
        "id": "2FJIAKVyek64",
        "outputId": "e5885d87-e1d8-4b82-8150-b1a5aecc7007"
      },
      "execution_count": null,
      "outputs": [
        {
          "output_type": "display_data",
          "data": {
            "text/plain": [
              "tokenizer_config.json:   0%|          | 0.00/517 [00:00<?, ?B/s]"
            ],
            "application/vnd.jupyter.widget-view+json": {
              "version_major": 2,
              "version_minor": 0,
              "model_id": "b047833f84314bd5afc825015dbf46ab"
            }
          },
          "metadata": {}
        },
        {
          "output_type": "display_data",
          "data": {
            "text/plain": [
              "tokenizer.json:   0%|          | 0.00/17.1M [00:00<?, ?B/s]"
            ],
            "application/vnd.jupyter.widget-view+json": {
              "version_major": 2,
              "version_minor": 0,
              "model_id": "f8e12c64fd7a41829bd4bf5ac43afa1a"
            }
          },
          "metadata": {}
        },
        {
          "output_type": "display_data",
          "data": {
            "text/plain": [
              "special_tokens_map.json:   0%|          | 0.00/280 [00:00<?, ?B/s]"
            ],
            "application/vnd.jupyter.widget-view+json": {
              "version_major": 2,
              "version_minor": 0,
              "model_id": "4638201b7e194788be63418417071907"
            }
          },
          "metadata": {}
        },
        {
          "output_type": "display_data",
          "data": {
            "text/plain": [
              "Map:   0%|          | 0/10908 [00:00<?, ? examples/s]"
            ],
            "application/vnd.jupyter.widget-view+json": {
              "version_major": 2,
              "version_minor": 0,
              "model_id": "a14798c8f21a4f24b88e8dd94855748c"
            }
          },
          "metadata": {}
        },
        {
          "output_type": "display_data",
          "data": {
            "text/plain": [
              "Map:   0%|          | 0/1212 [00:00<?, ? examples/s]"
            ],
            "application/vnd.jupyter.widget-view+json": {
              "version_major": 2,
              "version_minor": 0,
              "model_id": "39ec46d667ba40d0a1f050c8a7f629fe"
            }
          },
          "metadata": {}
        },
        {
          "output_type": "display_data",
          "data": {
            "text/plain": [
              "config.json:   0%|          | 0.00/1.01k [00:00<?, ?B/s]"
            ],
            "application/vnd.jupyter.widget-view+json": {
              "version_major": 2,
              "version_minor": 0,
              "model_id": "7008e3b22d684adcaf62cdda61b64be0"
            }
          },
          "metadata": {}
        },
        {
          "output_type": "display_data",
          "data": {
            "text/plain": [
              "pytorch_model.bin:   0%|          | 0.00/1.11G [00:00<?, ?B/s]"
            ],
            "application/vnd.jupyter.widget-view+json": {
              "version_major": 2,
              "version_minor": 0,
              "model_id": "3192236a244b4e709f6d454564e5ad5a"
            }
          },
          "metadata": {}
        },
        {
          "output_type": "display_data",
          "data": {
            "text/plain": [
              "model.safetensors:   0%|          | 0.00/1.11G [00:00<?, ?B/s]"
            ],
            "application/vnd.jupyter.widget-view+json": {
              "version_major": 2,
              "version_minor": 0,
              "model_id": "d8bd69d7a3284811a82b794bce97508d"
            }
          },
          "metadata": {}
        },
        {
          "output_type": "stream",
          "name": "stdout",
          "text": [
            "🚀 Fine-tuning XLM-RoBERTa-base-XNLI (3 epochs)…\n"
          ]
        },
        {
          "output_type": "display_data",
          "data": {
            "text/plain": [
              "<IPython.core.display.HTML object>"
            ],
            "text/html": [
              "\n",
              "    <div>\n",
              "      \n",
              "      <progress value='4092' max='4092' style='width:300px; height:20px; vertical-align: middle;'></progress>\n",
              "      [4092/4092 15:17, Epoch 3/3]\n",
              "    </div>\n",
              "    <table border=\"1\" class=\"dataframe\">\n",
              "  <thead>\n",
              " <tr style=\"text-align: left;\">\n",
              "      <th>Epoch</th>\n",
              "      <th>Training Loss</th>\n",
              "      <th>Validation Loss</th>\n",
              "      <th>Accuracy</th>\n",
              "      <th>Macro F1</th>\n",
              "    </tr>\n",
              "  </thead>\n",
              "  <tbody>\n",
              "    <tr>\n",
              "      <td>1</td>\n",
              "      <td>0.731700</td>\n",
              "      <td>0.577920</td>\n",
              "      <td>0.798680</td>\n",
              "      <td>0.798366</td>\n",
              "    </tr>\n",
              "    <tr>\n",
              "      <td>2</td>\n",
              "      <td>0.471800</td>\n",
              "      <td>0.558031</td>\n",
              "      <td>0.801980</td>\n",
              "      <td>0.801635</td>\n",
              "    </tr>\n",
              "    <tr>\n",
              "      <td>3</td>\n",
              "      <td>0.390100</td>\n",
              "      <td>0.624273</td>\n",
              "      <td>0.796205</td>\n",
              "      <td>0.795807</td>\n",
              "    </tr>\n",
              "  </tbody>\n",
              "</table><p>"
            ]
          },
          "metadata": {}
        },
        {
          "output_type": "display_data",
          "data": {
            "text/plain": [
              "<IPython.core.display.HTML object>"
            ],
            "text/html": []
          },
          "metadata": {}
        },
        {
          "output_type": "stream",
          "name": "stdout",
          "text": [
            "\n",
            "Validation Classification Report:\n",
            "               precision    recall  f1-score   support\n",
            "\n",
            "contradiction       0.82      0.85      0.83       406\n",
            "      neutral       0.74      0.79      0.77       388\n",
            "   entailment       0.85      0.77      0.81       418\n",
            "\n",
            "     accuracy                           0.80      1212\n",
            "    macro avg       0.80      0.80      0.80      1212\n",
            " weighted avg       0.80      0.80      0.80      1212\n",
            "\n"
          ]
        },
        {
          "output_type": "display_data",
          "data": {
            "text/plain": [
              "<Figure size 640x480 with 2 Axes>"
            ],
            "image/png": "[encoded data removed]"
          },
          "metadata": {}
        }
      ]
    },
    {
      "cell_type": "markdown",
      "source": [
        "# **Advanced Fine-Tuning of BERT-base-multilingual-cased for Multilingual NLI**\n",
        "\n",
        "This script implements a two-phase fine-tuning pipeline on the Watson NLI dataset"
      ],
      "metadata": {
        "id": "Ph0wjFL2i9Fn"
      }
    },
    {
      "cell_type": "code",
      "source": [
        "import numpy as np\n",
        "import torch\n",
        "from torch import nn\n",
        "from torch.optim import AdamW\n",
        "import pandas as pd\n",
        "import matplotlib.pyplot as plt\n",
        "from datasets import Dataset, DatasetDict\n",
        "from transformers import (\n",
        "    AutoTokenizer,\n",
        "    AutoModelForSequenceClassification,\n",
        "    TrainingArguments,\n",
        "    Trainer,\n",
        "    EarlyStoppingCallback,\n",
        "    get_linear_schedule_with_warmup\n",
        ")\n",
        "from evaluate import load\n",
        "from sklearn.metrics import classification_report, ConfusionMatrixDisplay\n",
        "\n",
        "\n",
        "\n",
        "# Tokenisation\n",
        "tokenizer = AutoTokenizer.from_pretrained(\"bert-base-multilingual-cased\")\n",
        "def tokenize_fn(batch):\n",
        "    enc = tokenizer(batch[\"premise\"], batch[\"hypothesis\"],\n",
        "                    truncation=True, padding=\"max_length\", max_length=256)\n",
        "    enc[\"labels\"] = batch[\"label\"]\n",
        "    return enc\n",
        "\n",
        "drop = [\"id\",\"premise\",\"hypothesis\",\"lang_abv\",\"language\",\"label\"]\n",
        "train_ds = Dataset.from_pandas(train_df.reset_index(drop=True))\n",
        "val_ds   = Dataset.from_pandas(val_df.reset_index(drop=True))\n",
        "data = DatasetDict({\n",
        "    \"train\": train_ds.map(tokenize_fn, batched=True, remove_columns=drop),\n",
        "    \"val\"  : val_ds.map(tokenize_fn,   batched=True, remove_columns=drop)\n",
        "}).with_format(\"torch\")\n",
        "\n",
        "#  Multi-Sample Dropout head\n",
        "class MultiSampleDropoutHead(nn.Module):\n",
        "    def __init__(self, hidden_size, num_labels, drop_rate=0.5, n_samples=5):\n",
        "        super().__init__()\n",
        "        self.dropouts = nn.ModuleList([nn.Dropout(drop_rate) for _ in range(n_samples)])\n",
        "        self.classifier = nn.Linear(hidden_size, num_labels)\n",
        "    def forward(self, x):\n",
        "        logits = [self.classifier(drop(x)) for drop in self.dropouts]\n",
        "        return torch.mean(torch.stack(logits, dim=0), dim=0)\n",
        "\n",
        "#   Model init + replace head\n",
        "model = AutoModelForSequenceClassification.from_pretrained(\n",
        "    \"bert-base-multilingual-cased\",\n",
        "    num_labels=3,\n",
        "    id2label={0:\"contradiction\",1:\"neutral\",2:\"entailment\"},\n",
        "    label2id={\"contradiction\":0,\"neutral\":1,\"entailment\":2}\n",
        ")\n",
        "model.classifier = MultiSampleDropoutHead(model.config.hidden_size, model.config.num_labels)\n",
        "\n",
        "#  Phase 1: head-only training\n",
        "for param in model.bert.parameters(): param.requires_grad = False\n",
        "optimizer1 = AdamW(model.classifier.parameters(), lr=5e-5, weight_decay=0.0)\n",
        "steps1 = (len(data[\"train\"]) // 16) * 3  # bs=16, epochs=3\n",
        "scheduler1 = get_linear_schedule_with_warmup(optimizer1, int(0.1*steps1), steps1)\n",
        "args1 = TrainingArguments(\"phase1\", eval_strategy=\"epoch\", save_strategy=\"epoch\",\n",
        "                         num_train_epochs=3, per_device_train_batch_size=16,\n",
        "                         per_device_eval_batch_size=32, fp16=torch.cuda.is_available(),\n",
        "                         load_best_model_at_end=True, metric_for_best_model=\"eval_accuracy\",\n",
        "                         report_to=\"none\")\n",
        "acc = load(\"accuracy\"); f1 = load(\"f1\")\n",
        "def compute_metrics(p):\n",
        "    preds = np.argmax(p.predictions, axis=-1)\n",
        "    return {\"accuracy\": acc.compute(predictions=preds, references=p.label_ids)[\"accuracy\"],\n",
        "            \"macro_f1\": f1.compute(predictions=preds, references=p.label_ids, average=\"macro\")[\"f1\"]}\n",
        "from transformers import EarlyStoppingCallback\n",
        "\n",
        "trainer1 = Trainer(\n",
        "    model=model,\n",
        "    args=args1,\n",
        "    train_dataset=data[\"train\"],\n",
        "    eval_dataset= data[\"val\"],\n",
        "    compute_metrics=compute_metrics,\n",
        "    callbacks=[EarlyStoppingCallback(early_stopping_patience=2)],\n",
        "    optimizers=(optimizer1, scheduler1)\n",
        ")\n",
        "print(\"🚀 Phase 1: head-only…\")\n",
        "trainer1.train()\n",
        "\n",
        "#  Phase 2: unfreeze & layer-wise LR\n",
        "for param in model.parameters(): param.requires_grad = True\n",
        "no_decay = [\"bias\",\"LayerNorm.weight\"]; param_groups=[]\n",
        "# head @5e-5\n",
        "for n,p in model.classifier.named_parameters():\n",
        "    param_groups.append({\"params\":p,\"lr\":5e-5,\"weight_decay\":0.0})\n",
        "# encoder top4 @3e-5, next4 @2e-5, bottom4 @1e-5\n",
        "layers = list(model.bert.encoder.layer)\n",
        "for lr,grp in zip([3e-5,2e-5,1e-5],[layers[-4:],layers[4:8],layers[:4]]):\n",
        "    for layer in grp:\n",
        "        for n,p in layer.named_parameters():\n",
        "            param_groups.append({\n",
        "                \"params\":p, \"lr\":lr,\n",
        "                \"weight_decay\":0.0 if any(nd in n for nd in no_decay) else 0.01\n",
        "            })\n",
        "optimizer2 = AdamW(param_groups)\n",
        "steps2 = (len(data[\"train\"]) // 8) * 5\n",
        "scheduler2 = get_linear_schedule_with_warmup(optimizer2, int(0.1*steps2), steps2)\n",
        "args2 = TrainingArguments(\"phase2\", eval_strategy=\"epoch\", save_strategy=\"epoch\",\n",
        "                         num_train_epochs=5, per_device_train_batch_size=8,\n",
        "                         per_device_eval_batch_size=16, fp16=torch.cuda.is_available(),\n",
        "                         load_best_model_at_end=True, metric_for_best_model=\"eval_accuracy\",\n",
        "                         report_to=\"none\")\n",
        "trainer2 = Trainer(\n",
        "    model=model,\n",
        "    args=args2,\n",
        "    train_dataset=data[\"train\"],\n",
        "    eval_dataset= data[\"val\"],\n",
        "    compute_metrics=compute_metrics,\n",
        "    callbacks=[EarlyStoppingCallback(early_stopping_patience=2)],\n",
        "    optimizers=(optimizer2, scheduler2)\n",
        ")\n",
        "print(\"🚀 Phase 2: full-model…\")\n",
        "trainer2.train()\n",
        "\n",
        "\n",
        "#  Final eval\n",
        "val_preds = trainer2.predict(data[\"val\"]).predictions.argmax(-1)\n",
        "print(classification_report(val_df[\"label\"], val_preds,\n",
        "      target_names=[\"contradiction\",\"neutral\",\"entailment\"]))\n",
        "ConfusionMatrixDisplay.from_predictions(val_df[\"label\"], val_preds,\n",
        "      display_labels=[\"C\",\"N\",\"E\"], cmap=\"Blues\")\n",
        "plt.show()\n"
      ],
      "metadata": {
        "colab": {
          "base_uri": "https://localhost:8080/",
          "height": 1000,
          "referenced_widgets": [
            "85588cff08214a2eaa7aead6010945f7",
            "44ff453903354fd391ca3f51209adccd",
            "e4b3f3fb3b714f5f805041552aa7a03c",
            "b17a34f031cc46b0bb8ff5097f672410",
            "e39fda30d5694fea954dfe76bac51a6b",
            "603de1c65db149e8a5ecb3091115cedc",
            "257f3a0833304cf99674c4e5c3b2cf62",
            "65aa519c70cd47fdbfaa9b831d42018a",
            "6d3e93af267c455590da4f963e5d6f03",
            "ded71e4d83b94d4ea17308377252d709",
            "b0a84ab0901d484f8047756568e38769",
            "81b2428788534c04b1353d021078f538",
            "afc46c6dbf7141ffbbe1decadb47e858",
            "fc3f1e193c5f44ab9d237bdbf5fccf37",
            "9092e6fff3f84dea8df16ce9407a6045",
            "086e6b268a0b4741ad6bc19ac3647846",
            "9511dad315fe4844bb0a9bb109816892",
            "95299a5177af46359f8c81cee88b3809",
            "2386a87a56404af5a538b3bc230d8cb1",
            "031f925f85544251b85ec04b65784bf3",
            "7e708f4cab844236acad23dcf7e35b76",
            "02b4a12d5117462bacc1931987d9874d"
          ]
        },
        "id": "HPiSWtfnSEZF",
        "outputId": "b029e8ab-1a7e-45d5-c4aa-014090c84459"
      },
      "execution_count": null,
      "outputs": [
        {
          "output_type": "display_data",
          "data": {
            "text/plain": [
              "Map:   0%|          | 0/10908 [00:00<?, ? examples/s]"
            ],
            "application/vnd.jupyter.widget-view+json": {
              "version_major": 2,
              "version_minor": 0,
              "model_id": "85588cff08214a2eaa7aead6010945f7"
            }
          },
          "metadata": {}
        },
        {
          "output_type": "display_data",
          "data": {
            "text/plain": [
              "Map:   0%|          | 0/1212 [00:00<?, ? examples/s]"
            ],
            "application/vnd.jupyter.widget-view+json": {
              "version_major": 2,
              "version_minor": 0,
              "model_id": "81b2428788534c04b1353d021078f538"
            }
          },
          "metadata": {}
        },
        {
          "output_type": "stream",
          "name": "stderr",
          "text": [
            "Some weights of BertForSequenceClassification were not initialized from the model checkpoint at bert-base-multilingual-cased and are newly initialized: ['classifier.bias', 'classifier.weight']\n",
            "You should probably TRAIN this model on a down-stream task to be able to use it for predictions and inference.\n"
          ]
        },
        {
          "output_type": "stream",
          "name": "stdout",
          "text": [
            "🚀 Phase 1: head-only…\n"
          ]
        },
        {
          "output_type": "display_data",
          "data": {
            "text/plain": [
              "<IPython.core.display.HTML object>"
            ],
            "text/html": [
              "\n",
              "    <div>\n",
              "      \n",
              "      <progress value='2046' max='2046' style='width:300px; height:20px; vertical-align: middle;'></progress>\n",
              "      [2046/2046 02:48, Epoch 3/3]\n",
              "    </div>\n",
              "    <table border=\"1\" class=\"dataframe\">\n",
              "  <thead>\n",
              " <tr style=\"text-align: left;\">\n",
              "      <th>Epoch</th>\n",
              "      <th>Training Loss</th>\n",
              "      <th>Validation Loss</th>\n",
              "      <th>Accuracy</th>\n",
              "      <th>Macro F1</th>\n",
              "    </tr>\n",
              "  </thead>\n",
              "  <tbody>\n",
              "    <tr>\n",
              "      <td>1</td>\n",
              "      <td>1.108500</td>\n",
              "      <td>1.097917</td>\n",
              "      <td>0.369637</td>\n",
              "      <td>0.328641</td>\n",
              "    </tr>\n",
              "    <tr>\n",
              "      <td>2</td>\n",
              "      <td>1.107000</td>\n",
              "      <td>1.094603</td>\n",
              "      <td>0.394389</td>\n",
              "      <td>0.352928</td>\n",
              "    </tr>\n",
              "    <tr>\n",
              "      <td>3</td>\n",
              "      <td>1.101000</td>\n",
              "      <td>1.094161</td>\n",
              "      <td>0.367987</td>\n",
              "      <td>0.288644</td>\n",
              "    </tr>\n",
              "  </tbody>\n",
              "</table><p>"
            ]
          },
          "metadata": {}
        },
        {
          "output_type": "stream",
          "name": "stdout",
          "text": [
            "🚀 Phase 2: full-model…\n"
          ]
        },
        {
          "output_type": "display_data",
          "data": {
            "text/plain": [
              "<IPython.core.display.HTML object>"
            ],
            "text/html": [
              "\n",
              "    <div>\n",
              "      \n",
              "      <progress value='6820' max='6820' style='width:300px; height:20px; vertical-align: middle;'></progress>\n",
              "      [6820/6820 17:39, Epoch 5/5]\n",
              "    </div>\n",
              "    <table border=\"1\" class=\"dataframe\">\n",
              "  <thead>\n",
              " <tr style=\"text-align: left;\">\n",
              "      <th>Epoch</th>\n",
              "      <th>Training Loss</th>\n",
              "      <th>Validation Loss</th>\n",
              "      <th>Accuracy</th>\n",
              "      <th>Macro F1</th>\n",
              "    </tr>\n",
              "  </thead>\n",
              "  <tbody>\n",
              "    <tr>\n",
              "      <td>1</td>\n",
              "      <td>1.003400</td>\n",
              "      <td>0.855809</td>\n",
              "      <td>0.603960</td>\n",
              "      <td>0.603714</td>\n",
              "    </tr>\n",
              "    <tr>\n",
              "      <td>2</td>\n",
              "      <td>0.741600</td>\n",
              "      <td>0.797917</td>\n",
              "      <td>0.664191</td>\n",
              "      <td>0.664442</td>\n",
              "    </tr>\n",
              "    <tr>\n",
              "      <td>3</td>\n",
              "      <td>0.579500</td>\n",
              "      <td>0.837593</td>\n",
              "      <td>0.675743</td>\n",
              "      <td>0.675304</td>\n",
              "    </tr>\n",
              "    <tr>\n",
              "      <td>4</td>\n",
              "      <td>0.435000</td>\n",
              "      <td>1.052255</td>\n",
              "      <td>0.665842</td>\n",
              "      <td>0.665602</td>\n",
              "    </tr>\n",
              "    <tr>\n",
              "      <td>5</td>\n",
              "      <td>0.365600</td>\n",
              "      <td>1.454064</td>\n",
              "      <td>0.669142</td>\n",
              "      <td>0.669169</td>\n",
              "    </tr>\n",
              "  </tbody>\n",
              "</table><p>"
            ]
          },
          "metadata": {}
        },
        {
          "output_type": "display_data",
          "data": {
            "text/plain": [
              "<IPython.core.display.HTML object>"
            ],
            "text/html": []
          },
          "metadata": {}
        },
        {
          "output_type": "stream",
          "name": "stdout",
          "text": [
            "               precision    recall  f1-score   support\n",
            "\n",
            "contradiction       0.65      0.67      0.66       406\n",
            "      neutral       0.67      0.65      0.66       388\n",
            "   entailment       0.71      0.71      0.71       418\n",
            "\n",
            "     accuracy                           0.68      1212\n",
            "    macro avg       0.68      0.68      0.68      1212\n",
            " weighted avg       0.68      0.68      0.68      1212\n",
            "\n"
          ]
        },
        {
          "output_type": "display_data",
          "data": {
            "text/plain": [
              "<Figure size 640x480 with 2 Axes>"
            ],
            "image/png": "[encoded data removed]"
          },
          "metadata": {}
        }
      ]
    },
    {
      "cell_type": "markdown",
      "source": [
        "# ** Advanced fine-tuning of RoBERTa-base (no custom head)**\n",
        "\n",
        "           • Layer-wise LR decay\n",
        "           • Early stopping"
      ],
      "metadata": {
        "id": "g8gRSxUDeP15"
      }
    },
    {
      "cell_type": "code",
      "source": [
        "\n",
        "import numpy as np\n",
        "import torch\n",
        "from torch.optim import AdamW\n",
        "import matplotlib.pyplot as plt\n",
        "from datasets import Dataset, DatasetDict\n",
        "from transformers import (\n",
        "    AutoTokenizer,\n",
        "    AutoModelForSequenceClassification,\n",
        "    TrainingArguments,\n",
        "    Trainer,\n",
        "    EarlyStoppingCallback,\n",
        "    get_linear_schedule_with_warmup\n",
        ")\n",
        "from evaluate import load\n",
        "from sklearn.metrics import classification_report, ConfusionMatrixDisplay\n",
        "\n",
        "# 1️⃣ Tokenisation\n",
        "MODEL_CKPT = \"roberta-base\"\n",
        "tokenizer  = AutoTokenizer.from_pretrained(MODEL_CKPT)\n",
        "\n",
        "def tokenize_fn(batch):\n",
        "    enc = tokenizer(\n",
        "        batch[\"premise\"], batch[\"hypothesis\"],\n",
        "        truncation=True, padding=\"max_length\", max_length=256\n",
        "    )\n",
        "    enc[\"labels\"] = batch[\"label\"]\n",
        "    return enc\n",
        "\n",
        "drop = [\"id\",\"premise\",\"hypothesis\",\"lang_abv\",\"language\",\"label\"]\n",
        "train_ds = Dataset.from_pandas(train_df.reset_index(drop=True))\n",
        "val_ds   = Dataset.from_pandas(val_df.reset_index(drop=True))\n",
        "data = DatasetDict({\n",
        "    \"train\": train_ds.map(tokenize_fn, batched=True, remove_columns=drop),\n",
        "    \"val\"  : val_ds.map(tokenize_fn,   batched=True, remove_columns=drop)\n",
        "}).with_format(\"torch\")\n",
        "\n",
        "# 2️⃣ Model\n",
        "model = AutoModelForSequenceClassification.from_pretrained(\n",
        "    MODEL_CKPT,\n",
        "    num_labels=3,\n",
        "    id2label={0:\"contradiction\",1:\"neutral\",2:\"entailment\"},\n",
        "    label2id={\"contradiction\":0,\"neutral\":1,\"entailment\":2}\n",
        ")\n",
        "\n",
        "# 3️⃣ Layer-wise LR decay\n",
        "no_decay = [\"bias\",\"LayerNorm.weight\"]\n",
        "param_groups = []\n",
        "\n",
        "# head @ 5e-5\n",
        "for n,p in model.classifier.named_parameters():\n",
        "    param_groups.append({\n",
        "        \"params\": p,\n",
        "        \"lr\": 5e-5,\n",
        "        \"weight_decay\": 0.0 if any(nd in n for nd in no_decay) else 0.01\n",
        "    })\n",
        "\n",
        "# encoder: top4 @3e-5, mid4 @2e-5, bottom4 @1e-5\n",
        "layers = list(model.roberta.encoder.layer)\n",
        "for lr, grp in zip([3e-5,2e-5,1e-5],[layers[-4:],layers[4:8],layers[:4]]):\n",
        "    for layer in grp:\n",
        "        for n,p in layer.named_parameters():\n",
        "            param_groups.append({\n",
        "                \"params\": p,\n",
        "                \"lr\": lr,\n",
        "                \"weight_decay\": 0.0 if any(nd in n for nd in no_decay) else 0.01\n",
        "            })\n",
        "\n",
        "optimizer = AdamW(param_groups)\n",
        "steps = (len(data[\"train\"]) // 8) * 5  # 5 epochs\n",
        "scheduler = get_linear_schedule_with_warmup(\n",
        "    optimizer,\n",
        "    num_warmup_steps=int(0.1 * steps),\n",
        "    num_training_steps=steps\n",
        ")\n",
        "\n",
        "# 4️⃣ TrainingArguments + EarlyStopping\n",
        "args = TrainingArguments(\n",
        "    output_dir=\"roberta-adv-simple\",\n",
        "    eval_strategy=\"epoch\",\n",
        "    save_strategy=\"epoch\",\n",
        "    save_total_limit=2,\n",
        "    num_train_epochs=5,\n",
        "    per_device_train_batch_size=8,\n",
        "    per_device_eval_batch_size=16,\n",
        "    weight_decay=0.01,\n",
        "    warmup_ratio=0.10,\n",
        "    fp16=torch.cuda.is_available(),\n",
        "    load_best_model_at_end=True,\n",
        "    metric_for_best_model=\"eval_accuracy\",\n",
        "    seed=42,\n",
        "    report_to=\"none\",\n",
        ")\n",
        "\n",
        "acc = load(\"accuracy\"); f1 = load(\"f1\")\n",
        "def compute_metrics(p):\n",
        "    preds = np.argmax(p.predictions, axis=-1)\n",
        "    return {\n",
        "      \"accuracy\": acc.compute(predictions=preds, references=p.label_ids)[\"accuracy\"],\n",
        "      \"macro_f1\": f1.compute(predictions=preds, references=p.label_ids, average=\"macro\")[\"f1\"]\n",
        "    }\n",
        "\n",
        "trainer = Trainer(\n",
        "    model=model,\n",
        "    args=args,\n",
        "    train_dataset=data[\"train\"],\n",
        "    eval_dataset=data[\"val\"],\n",
        "    compute_metrics=compute_metrics,\n",
        "    callbacks=[EarlyStoppingCallback(early_stopping_patience=2)],\n",
        "    optimizers=(optimizer, scheduler)\n",
        ")\n",
        "\n",
        "print(\"🚀 Training RoBERTa-base with layer-wise decay…\")\n",
        "trainer.train()\n",
        "\n",
        "# 5️⃣ Evaluation\n",
        "preds = trainer.predict(data[\"val\"]).predictions.argmax(-1)\n",
        "print(classification_report(\n",
        "    val_df[\"label\"], preds,\n",
        "    target_names=[\"contradiction\",\"neutral\",\"entailment\"]\n",
        "))\n",
        "ConfusionMatrixDisplay.from_predictions(\n",
        "    val_df[\"label\"], preds,\n",
        "    display_labels=[\"C\",\"N\",\"E\"], cmap=\"Blues\"\n",
        ")\n",
        "plt.show()\n"
      ],
      "metadata": {
        "colab": {
          "base_uri": "https://localhost:8080/",
          "height": 980,
          "referenced_widgets": [
            "0ee949b0311845acb7b00777e5e7d42e",
            "fb8c9081ced44ceda80a110c89cfc832",
            "5d9801b769c845d681e313bc450a0608",
            "2ca53294fc864a168984ad74fe3b4bfb",
            "f1e4de44148a4f629a59ee65533fd17f",
            "f00562ef537d44349e6ec8d77bf60d6f",
            "5fe0a81325ec4e2c938c60b4b2d619d8",
            "18870c9b98014282b31158359ebcc62f",
            "0b43c52d363940c3ba0bcc13efc40df9",
            "f6b4e60819f54b13aff75f19c429a4c9",
            "0eea0f02f2004af59da1c1d846a05e7a",
            "5293b2dd658f493dbe20de460ac575fc",
            "94ad022a994a45de9d0cbb7021b23fee",
            "4fd07d604a984ac1bff8a5b79776dc7b",
            "5ea9a70b0fe944ff9466f9c04b929eb2",
            "f518a4f53a364c67985351a5fc128565",
            "44608402e2c74ca18d6664d0239db8b2",
            "eff6346b677040579322ece8181ce632",
            "7da7fdaa04e64b2ea8b0861739b27ba1",
            "7f5f98c1a0274e4fa6ba6aaa290225ec",
            "82331dff1f5c40c8989ae7ec221f64e3",
            "d865f39a518b420da1a565a82d0236b9"
          ]
        },
        "id": "EzbyfoLLbEl4",
        "outputId": "99eb21e3-b79b-483a-9cef-eb2f85559962"
      },
      "execution_count": null,
      "outputs": [
        {
          "output_type": "display_data",
          "data": {
            "text/plain": [
              "Map:   0%|          | 0/10908 [00:00<?, ? examples/s]"
            ],
            "application/vnd.jupyter.widget-view+json": {
              "version_major": 2,
              "version_minor": 0,
              "model_id": "0ee949b0311845acb7b00777e5e7d42e"
            }
          },
          "metadata": {}
        },
        {
          "output_type": "display_data",
          "data": {
            "text/plain": [
              "Map:   0%|          | 0/1212 [00:00<?, ? examples/s]"
            ],
            "application/vnd.jupyter.widget-view+json": {
              "version_major": 2,
              "version_minor": 0,
              "model_id": "5293b2dd658f493dbe20de460ac575fc"
            }
          },
          "metadata": {}
        },
        {
          "output_type": "stream",
          "name": "stderr",
          "text": [
            "Some weights of RobertaForSequenceClassification were not initialized from the model checkpoint at roberta-base and are newly initialized: ['classifier.dense.bias', 'classifier.dense.weight', 'classifier.out_proj.bias', 'classifier.out_proj.weight']\n",
            "You should probably TRAIN this model on a down-stream task to be able to use it for predictions and inference.\n"
          ]
        },
        {
          "output_type": "stream",
          "name": "stdout",
          "text": [
            "🚀 Training RoBERTa-base with layer-wise decay…\n"
          ]
        },
        {
          "output_type": "display_data",
          "data": {
            "text/plain": [
              "<IPython.core.display.HTML object>"
            ],
            "text/html": [
              "\n",
              "    <div>\n",
              "      \n",
              "      <progress value='6820' max='6820' style='width:300px; height:20px; vertical-align: middle;'></progress>\n",
              "      [6820/6820 17:22, Epoch 5/5]\n",
              "    </div>\n",
              "    <table border=\"1\" class=\"dataframe\">\n",
              "  <thead>\n",
              " <tr style=\"text-align: left;\">\n",
              "      <th>Epoch</th>\n",
              "      <th>Training Loss</th>\n",
              "      <th>Validation Loss</th>\n",
              "      <th>Accuracy</th>\n",
              "      <th>Macro F1</th>\n",
              "    </tr>\n",
              "  </thead>\n",
              "  <tbody>\n",
              "    <tr>\n",
              "      <td>1</td>\n",
              "      <td>1.056700</td>\n",
              "      <td>0.927125</td>\n",
              "      <td>0.560231</td>\n",
              "      <td>0.554680</td>\n",
              "    </tr>\n",
              "    <tr>\n",
              "      <td>2</td>\n",
              "      <td>0.823500</td>\n",
              "      <td>0.858902</td>\n",
              "      <td>0.613036</td>\n",
              "      <td>0.614767</td>\n",
              "    </tr>\n",
              "    <tr>\n",
              "      <td>3</td>\n",
              "      <td>0.725100</td>\n",
              "      <td>0.846111</td>\n",
              "      <td>0.623762</td>\n",
              "      <td>0.624667</td>\n",
              "    </tr>\n",
              "    <tr>\n",
              "      <td>4</td>\n",
              "      <td>0.646700</td>\n",
              "      <td>0.927162</td>\n",
              "      <td>0.642739</td>\n",
              "      <td>0.637472</td>\n",
              "    </tr>\n",
              "    <tr>\n",
              "      <td>5</td>\n",
              "      <td>0.560300</td>\n",
              "      <td>0.982130</td>\n",
              "      <td>0.650990</td>\n",
              "      <td>0.650465</td>\n",
              "    </tr>\n",
              "  </tbody>\n",
              "</table><p>"
            ]
          },
          "metadata": {}
        },
        {
          "output_type": "display_data",
          "data": {
            "text/plain": [
              "<IPython.core.display.HTML object>"
            ],
            "text/html": []
          },
          "metadata": {}
        },
        {
          "output_type": "stream",
          "name": "stdout",
          "text": [
            "               precision    recall  f1-score   support\n",
            "\n",
            "contradiction       0.58      0.71      0.64       406\n",
            "      neutral       0.69      0.58      0.63       388\n",
            "   entailment       0.71      0.66      0.68       418\n",
            "\n",
            "     accuracy                           0.65      1212\n",
            "    macro avg       0.66      0.65      0.65      1212\n",
            " weighted avg       0.66      0.65      0.65      1212\n",
            "\n"
          ]
        },
        {
          "output_type": "display_data",
          "data": {
            "text/plain": [
              "<Figure size 640x480 with 2 Axes>"
            ],
            "image/png": "[encoded data removed]"
          },
          "metadata": {}
        }
      ]
    },
    {
      "cell_type": "markdown",
      "source": [
        "\n",
        "# **Fine-tuning joeddav/xlm-roberta-large-xnli**\n"
      ],
      "metadata": {
        "id": "cSQ-CVChexWs"
      }
    },
    {
      "cell_type": "code",
      "source": [
        "import numpy as np\n",
        "import torch\n",
        "from torch.optim import AdamW\n",
        "from datasets import Dataset, DatasetDict\n",
        "from transformers import (\n",
        "    AutoTokenizer,\n",
        "    AutoModelForSequenceClassification,\n",
        "    Trainer,\n",
        "    TrainingArguments,\n",
        "    EarlyStoppingCallback,\n",
        "    get_linear_schedule_with_warmup\n",
        ")\n",
        "from evaluate import load\n",
        "from sklearn.metrics import classification_report, ConfusionMatrixDisplay\n",
        "import matplotlib.pyplot as plt\n",
        "\n",
        "#  Tokenisation – shorter max_length to save memory\n",
        "tokenizer = AutoTokenizer.from_pretrained(\n",
        "    \"joeddav/xlm-roberta-large-xnli\", use_auth_token=True\n",
        ")\n",
        "def tokenize_fn(batch):\n",
        "    enc = tokenizer(\n",
        "        batch[\"premise\"], batch[\"hypothesis\"],\n",
        "        truncation=True,\n",
        "        padding=\"max_length\",\n",
        "        max_length=192,\n",
        "    )\n",
        "    enc[\"labels\"] = batch[\"label\"]\n",
        "    return enc\n",
        "\n",
        "drop = [\"id\",\"premise\",\"hypothesis\",\"lang_abv\",\"language\",\"label\"]\n",
        "train_ds = Dataset.from_pandas(train_df.reset_index(drop=True))\n",
        "val_ds   = Dataset.from_pandas(val_df.reset_index(drop=True))\n",
        "data = DatasetDict({\n",
        "    \"train\": train_ds.map(tokenize_fn, batched=True, remove_columns=drop),\n",
        "    \"val\"  : val_ds.map(tokenize_fn, batched=True, remove_columns=drop),\n",
        "}).with_format(\"torch\")\n",
        "\n",
        "# Model init + gradient checkpointing + partial freeze\n",
        "model = AutoModelForSequenceClassification.from_pretrained(\n",
        "    \"joeddav/xlm-roberta-large-xnli\",\n",
        "    use_auth_token=True,\n",
        "    num_labels=3,\n",
        "    id2label={0:\"contradiction\",1:\"neutral\",2:\"entailment\"},\n",
        "    label2id={\"contradiction\":0,\"neutral\":1,\"entailment\":2}\n",
        ")\n",
        "model.gradient_checkpointing_enable()\n",
        "\n",
        "# Freeze the bottom half of the encoder layers\n",
        "for layer in model.roberta.encoder.layer[:12]:\n",
        "    for param in layer.parameters():\n",
        "        param.requires_grad = False\n",
        "\n",
        "# Optimizer & scheduler with layer-wise decay\n",
        "no_decay = [\"bias\",\"LayerNorm.weight\"]\n",
        "param_groups = []\n",
        "\n",
        "# head @5e-5\n",
        "for n,p in model.classifier.named_parameters():\n",
        "    param_groups.append({\n",
        "        \"params\":p, \"lr\":5e-5,\n",
        "        \"weight_decay\":0.0 if any(nd in n for nd in no_decay) else 0.01\n",
        "    })\n",
        "\n",
        "# remaining top 12 layers split into three groups @3e-5,2e-5,1e-5\n",
        "top_layers = list(model.roberta.encoder.layer[12:])\n",
        "for lr, grp in zip([3e-5,2e-5,1e-5], np.array_split(top_layers, 3)):\n",
        "    for layer in grp:\n",
        "        for n,p in layer.named_parameters():\n",
        "            param_groups.append({\n",
        "                \"params\":p, \"lr\":lr,\n",
        "                \"weight_decay\":0.0 if any(nd in n for nd in no_decay) else 0.01\n",
        "            })\n",
        "\n",
        "optimizer = AdamW(param_groups)\n",
        "\n",
        "total_steps = (len(data[\"train\"]) // 1) * 3  # bs=1, epochs=3\n",
        "scheduler = get_linear_schedule_with_warmup(\n",
        "    optimizer,\n",
        "    num_warmup_steps=int(0.1 * total_steps),\n",
        "    num_training_steps=total_steps\n",
        ")\n",
        "\n",
        "# TrainingArguments – tiny batch + accumulation + fp16\n",
        "args = TrainingArguments(\n",
        "    output_dir=\"advanced-finetune-xnli\",\n",
        "    eval_strategy=\"epoch\",\n",
        "    save_strategy=\"epoch\",\n",
        "    save_total_limit=1,\n",
        "    num_train_epochs=3,\n",
        "    per_device_train_batch_size=2,       # 1 example at a time\n",
        "    gradient_accumulation_steps=8,       # accumulate to effective bs=8\n",
        "    per_device_eval_batch_size=4,\n",
        "    weight_decay=0.01,\n",
        "    warmup_ratio=0.10,\n",
        "    fp16=torch.cuda.is_available(),\n",
        "    load_best_model_at_end=True,\n",
        "    metric_for_best_model=\"eval_accuracy\",\n",
        "    report_to=\"none\",\n",
        "    seed=42\n",
        ")\n",
        "\n",
        "#  Metrics & Trainer\n",
        "acc = load(\"accuracy\"); f1 = load(\"f1\")\n",
        "def compute_metrics(p):\n",
        "    preds = np.argmax(p.predictions, axis=-1)\n",
        "    return {\n",
        "        \"accuracy\": acc.compute(predictions=preds, references=p.label_ids)[\"accuracy\"],\n",
        "        \"macro_f1\": f1.compute(predictions=preds, references=p.label_ids, average=\"macro\")[\"f1\"]\n",
        "    }\n",
        "\n",
        "trainer = Trainer(\n",
        "    model=model,\n",
        "    args=args,\n",
        "    train_dataset=data[\"train\"],\n",
        "    eval_dataset=data[\"val\"],\n",
        "    compute_metrics=compute_metrics,\n",
        "    callbacks=[EarlyStoppingCallback(early_stopping_patience=1)],\n",
        "    optimizers=(optimizer, scheduler)\n",
        ")\n",
        "\n",
        "print(\"🚀 Fine-tuning large-XNLI with OOM fixes…\")\n",
        "trainer.train()\n",
        "\n",
        "# Final evaluation\n",
        "preds = trainer.predict(data[\"val\"]).predictions.argmax(-1)\n",
        "print(classification_report(val_df[\"label\"], preds,\n",
        "                            target_names=[\"contradiction\",\"neutral\",\"entailment\"]))\n",
        "ConfusionMatrixDisplay.from_predictions(\n",
        "    val_df[\"label\"], preds, display_labels=[\"C\",\"N\",\"E\"], cmap=\"Blues\"\n",
        ")\n",
        "plt.show()\n"
      ],
      "metadata": {
        "colab": {
          "base_uri": "https://localhost:8080/",
          "height": 1000,
          "referenced_widgets": [
            "1a44fa91178c418ca5d1d4807e5dbee5",
            "cc8f81d451104565ad344b32bc772695",
            "fff94497c2064578aaa42c90ee5ab0c4",
            "16488ed525694bb3a70a3f9691dcccdc",
            "1a55596a1f91452e968bb021878f99b7",
            "c3732c0b42f6442b8682bae591a7d535",
            "28bc4207f979450b98f113ec1bd4fa89",
            "7a3eab2f37b74ff39d4313512081cfae",
            "aeac946450b7495e839186d7c271d1a1",
            "701badb17f884e9d908139aeb8a1daac",
            "4d304eccd1a742b188975c17f490ddae",
            "b7205f81c28941e694f23388ebf800ac",
            "cdbd0913c9f1461c86ea9f746cc56a23",
            "ea8aaa58426d44df80a9f62d0e60a81b",
            "569298266c224d2e84251dab3df8bfbd",
            "1a9c931faf304f1e9b03cebd31ad879e",
            "373991912a26478084dbf4da352fe388",
            "c2a9a2fa6eef4194bac406fea2a0c319",
            "154847eee80a4e1da753bd264304a515",
            "58ca5bcbbe24488484f54b3e27e6db0b",
            "7b610678a1174dff8fa9cd9e7720dd3a",
            "e8bd4601ca7e45a5882614ac5b22a7a4"
          ]
        },
        "id": "N1k1m4K6WVFJ",
        "outputId": "31087475-ba5d-40dc-8015-d37798915e7f"
      },
      "execution_count": null,
      "outputs": [
        {
          "output_type": "stream",
          "name": "stderr",
          "text": [
            "/usr/local/lib/python3.11/dist-packages/transformers/models/auto/tokenization_auto.py:898: FutureWarning: The `use_auth_token` argument is deprecated and will be removed in v5 of Transformers. Please use `token` instead.\n",
            "  warnings.warn(\n"
          ]
        },
        {
          "output_type": "display_data",
          "data": {
            "text/plain": [
              "Map:   0%|          | 0/10908 [00:00<?, ? examples/s]"
            ],
            "application/vnd.jupyter.widget-view+json": {
              "version_major": 2,
              "version_minor": 0,
              "model_id": "1a44fa91178c418ca5d1d4807e5dbee5"
            }
          },
          "metadata": {}
        },
        {
          "output_type": "display_data",
          "data": {
            "text/plain": [
              "Map:   0%|          | 0/1212 [00:00<?, ? examples/s]"
            ],
            "application/vnd.jupyter.widget-view+json": {
              "version_major": 2,
              "version_minor": 0,
              "model_id": "b7205f81c28941e694f23388ebf800ac"
            }
          },
          "metadata": {}
        },
        {
          "output_type": "stream",
          "name": "stderr",
          "text": [
            "/usr/local/lib/python3.11/dist-packages/transformers/models/auto/auto_factory.py:476: FutureWarning: The `use_auth_token` argument is deprecated and will be removed in v5 of Transformers. Please use `token` instead.\n",
            "  warnings.warn(\n",
            "Some weights of the model checkpoint at joeddav/xlm-roberta-large-xnli were not used when initializing XLMRobertaForSequenceClassification: ['roberta.pooler.dense.bias', 'roberta.pooler.dense.weight']\n",
            "- This IS expected if you are initializing XLMRobertaForSequenceClassification from the checkpoint of a model trained on another task or with another architecture (e.g. initializing a BertForSequenceClassification model from a BertForPreTraining model).\n",
            "- This IS NOT expected if you are initializing XLMRobertaForSequenceClassification from the checkpoint of a model that you expect to be exactly identical (initializing a BertForSequenceClassification model from a BertForSequenceClassification model).\n"
          ]
        },
        {
          "output_type": "stream",
          "name": "stdout",
          "text": [
            "🚀 Fine-tuning large-XNLI with OOM fixes…\n"
          ]
        },
        {
          "output_type": "display_data",
          "data": {
            "text/plain": [
              "<IPython.core.display.HTML object>"
            ],
            "text/html": [
              "\n",
              "    <div>\n",
              "      \n",
              "      <progress value='2043' max='2043' style='width:300px; height:20px; vertical-align: middle;'></progress>\n",
              "      [2043/2043 39:10, Epoch 2/3]\n",
              "    </div>\n",
              "    <table border=\"1\" class=\"dataframe\">\n",
              "  <thead>\n",
              " <tr style=\"text-align: left;\">\n",
              "      <th>Epoch</th>\n",
              "      <th>Training Loss</th>\n",
              "      <th>Validation Loss</th>\n",
              "      <th>Accuracy</th>\n",
              "      <th>Macro F1</th>\n",
              "    </tr>\n",
              "  </thead>\n",
              "  <tbody>\n",
              "    <tr>\n",
              "      <td>0</td>\n",
              "      <td>0.258800</td>\n",
              "      <td>0.269319</td>\n",
              "      <td>0.916667</td>\n",
              "      <td>0.916414</td>\n",
              "    </tr>\n",
              "    <tr>\n",
              "      <td>1</td>\n",
              "      <td>0.218600</td>\n",
              "      <td>0.281865</td>\n",
              "      <td>0.924917</td>\n",
              "      <td>0.924700</td>\n",
              "    </tr>\n",
              "    <tr>\n",
              "      <td>2</td>\n",
              "      <td>0.296400</td>\n",
              "      <td>0.470898</td>\n",
              "      <td>0.904290</td>\n",
              "      <td>0.904304</td>\n",
              "    </tr>\n",
              "  </tbody>\n",
              "</table><p>"
            ]
          },
          "metadata": {}
        },
        {
          "output_type": "display_data",
          "data": {
            "text/plain": [
              "<IPython.core.display.HTML object>"
            ],
            "text/html": []
          },
          "metadata": {}
        },
        {
          "output_type": "stream",
          "name": "stdout",
          "text": [
            "               precision    recall  f1-score   support\n",
            "\n",
            "contradiction       0.92      0.94      0.93       406\n",
            "      neutral       0.91      0.92      0.91       388\n",
            "   entailment       0.95      0.92      0.93       418\n",
            "\n",
            "     accuracy                           0.92      1212\n",
            "    macro avg       0.92      0.92      0.92      1212\n",
            " weighted avg       0.93      0.92      0.92      1212\n",
            "\n"
          ]
        },
        {
          "output_type": "display_data",
          "data": {
            "text/plain": [
              "<Figure size 640x480 with 2 Axes>"
            ],
            "image/png": "[encoded data removed]"
          },
          "metadata": {}
        }
      ]
    },
    {
      "cell_type": "markdown",
      "source": [
        "# **GPT-4 Few-Shot NLI Evaluation on a Subset of the Validation**\n",
        "\n",
        "This script samples a smaller subset (75 examples) from the full validation DataFrame (`val_df`) and runs a GPT-4 few-shot prompt to classify each example into one of three NLI labels: 0 = contradiction, 1 = neutral, 2 = entailment.\n",
        "\n"
      ],
      "metadata": {
        "id": "S6ynNafSjw2j"
      }
    },
    {
      "cell_type": "code",
      "source": [
        "import pandas as pd\n",
        "from tqdm.auto import tqdm\n",
        "from openai.error import RateLimitError\n",
        "import time\n",
        "\n",
        " Sample a smaller validation set (e.g. 200 examples)\n",
        "val_small = val_df.sample(n=75, random_state=42).reset_index(drop=True)\n",
        "\n",
        "#plugging val_small into your GPT-4 few-shot loop:\n",
        "\n",
        "\n",
        "few_shot = [\n",
        "    {\"role\":\"system\",\"content\":\n",
        "     \"You are an NLI model. Answer with one digit: 0=contradiction, 1=neutral, 2=entailment.\"},\n",
        "    {\"role\":\"user\",\"content\":\"Premise: She did not reply.\\nHypothesis: She was silent.\\nLabel:\"},\n",
        "    {\"role\":\"assistant\",\"content\":\"2\"},\n",
        "    {\"role\":\"user\",\"content\":\"Premise: He forgot to study.\\nHypothesis: He performed well.\\nLabel:\"},\n",
        "    {\"role\":\"assistant\",\"content\":\"0\"},\n",
        "    {\"role\":\"user\",\"content\":\"Premise: They hear the music.\\nHypothesis: They are listening.\\nLabel:\"},\n",
        "    {\"role\":\"assistant\",\"content\":\"1\"},\n",
        "]\n",
        "\n",
        "val_preds = []\n",
        "for prem, hyp in tqdm(zip(val_small.premise, val_small.hypothesis), total=len(val_small)):\n",
        "    messages = few_shot + [\n",
        "        {\"role\":\"user\",\"content\":f\"Premise: {prem}\\nHypothesis: {hyp}\\nLabel:\"}\n",
        "    ]\n",
        "    while True:\n",
        "        try:\n",
        "            resp = openai.ChatCompletion.create(\n",
        "                model=\"gpt-4\",\n",
        "                messages=messages,\n",
        "                temperature=0,\n",
        "                max_tokens=1\n",
        "            )\n",
        "            val_preds.append(int(resp.choices[0].message.content.strip()))\n",
        "            break\n",
        "        except RateLimitError:\n",
        "            time.sleep(0.5)  # back off and retry\n",
        "\n",
        "# Compute metrics on val_small\n",
        "from sklearn.metrics import accuracy_score, f1_score\n",
        "import numpy as np\n",
        "\n",
        "y_true = val_small[\"label\"].to_numpy()\n",
        "acc   = accuracy_score(y_true, val_preds)\n",
        "f1m   = f1_score(y_true, val_preds, average=\"macro\")\n",
        "print(f\"Acc: {acc:.3f}, Macro-F1: {f1m:.3f}\")\n"
      ],
      "metadata": {
        "colab": {
          "base_uri": "https://localhost:8080/",
          "height": 67,
          "referenced_widgets": [
            "42d3ca48e9dd4ec0b5e3d4dc7aae6830",
            "a3b7a4d8e69c4d61860e25cdc09ce3bd",
            "d9546c03c1284602b4f3e2e093b3104d",
            "cc1b6626285146e6871cbc0786eb483d",
            "6a43313e87d94ddda5831463b6f77548",
            "215c958d412746738238ed330fb4e4a0",
            "38a235db3fc74af69277f93e7992bb57",
            "0253240459b045e1892e3c1efbf45404",
            "c7a68980e2024ac8b5e2c45552b444ec",
            "079c63d8c4ee49c2bba51d3f88ec871f",
            "a19183a872c84b878b4609f0511ac147"
          ]
        },
        "id": "viah0LD2QQNa",
        "outputId": "3d4f28a1-502c-44c6-d1f6-2f0009540587"
      },
      "execution_count": null,
      "outputs": [
        {
          "output_type": "display_data",
          "data": {
            "text/plain": [
              "  0%|          | 0/75 [00:00<?, ?it/s]"
            ],
            "application/vnd.jupyter.widget-view+json": {
              "version_major": 2,
              "version_minor": 0,
              "model_id": "42d3ca48e9dd4ec0b5e3d4dc7aae6830"
            }
          },
          "metadata": {}
        },
        {
          "output_type": "stream",
          "name": "stdout",
          "text": [
            "Acc: 0.867, Macro-F1: 0.864\n"
          ]
        }
      ]
    },
    {
      "cell_type": "markdown",
      "source": [
        "\n",
        "# **GPT-2 Fine‑Tuning for Watson NLI**  \n"
      ],
      "metadata": {
        "id": "4NtIALsXfTNn"
      }
    },
    {
      "cell_type": "code",
      "source": [
        "\n",
        "\n",
        "#  Install dependencies\n",
        "!pip install -q transformers datasets evaluate scikit-learn matplotlib\n",
        "\n",
        "#  Imports\n",
        "import pandas as pd\n",
        "import numpy as np\n",
        "import torch\n",
        "from sklearn.model_selection import train_test_split\n",
        "from datasets import Dataset, DatasetDict\n",
        "from transformers import (\n",
        "    AutoTokenizer,\n",
        "    GPT2ForSequenceClassification,\n",
        "    TrainingArguments,\n",
        "    Trainer\n",
        ")\n",
        "from evaluate import load\n",
        "from sklearn.metrics import classification_report, ConfusionMatrixDisplay\n",
        "import matplotlib.pyplot as plt\n",
        "\n",
        "#  Load & split data\n",
        "df = pd.read_csv(\"train.csv\").dropna(subset=[\"premise\",\"hypothesis\",\"label\"])\n",
        "df[\"label\"] = df[\"label\"].astype(int)\n",
        "train_df, val_df = train_test_split(df, test_size=0.10,\n",
        "                                     stratify=df[\"label\"], random_state=42)\n",
        "train_df = train_df.reset_index(drop=True)\n",
        "val_df   = val_df.reset_index(drop=True)\n",
        "test_df  = pd.read_csv(\"test.csv\")\n",
        "\n",
        "print(f\"Train: {train_df.shape}, Val: {val_df.shape}, Test: {test_df.shape}\")\n",
        "\n",
        "#  Tokenizer setup\n",
        "tokenizer = AutoTokenizer.from_pretrained(\"gpt2\")\n",
        "tokenizer.pad_token = tokenizer.eos_token  # use EOS token as PAD\n",
        "\n",
        "def tokenize_fn(batch):\n",
        "    enc = tokenizer(\n",
        "        batch[\"premise\"],\n",
        "        batch[\"hypothesis\"],\n",
        "        padding=\"max_length\",\n",
        "        truncation=True,\n",
        "        max_length=192\n",
        "    )\n",
        "    enc[\"labels\"] = batch[\"label\"]\n",
        "    return enc\n",
        "\n",
        "# Build HF datasets\n",
        "drop_cols = [\"id\",\"premise\",\"hypothesis\",\"lang_abv\",\"language\",\"label\"]\n",
        "train_ds = Dataset.from_pandas(train_df)\n",
        "val_ds   = Dataset.from_pandas(val_df)\n",
        "data = DatasetDict({\n",
        "    \"train\": train_ds.map(tokenize_fn, batched=True, remove_columns=drop_cols),\n",
        "    \"val\"  : val_ds.map(tokenize_fn,   batched=True, remove_columns=drop_cols)\n",
        "}).with_format(\"torch\")\n",
        "\n",
        "#  Model init\n",
        "model = GPT2ForSequenceClassification.from_pretrained(\n",
        "    \"gpt2\",\n",
        "    num_labels=3\n",
        ")\n",
        "model.config.pad_token_id = model.config.eos_token_id  # ensure pad token id set\n",
        "\n",
        "#  Training arguments\n",
        "args = TrainingArguments(\n",
        "    output_dir=\"gpt2-watson-nli\",\n",
        "    eval_strategy=\"epoch\",\n",
        "    save_strategy=\"epoch\",\n",
        "    save_total_limit=1,\n",
        "    num_train_epochs=5,\n",
        "    learning_rate=3e-5,\n",
        "    per_device_train_batch_size=8,\n",
        "    per_device_eval_batch_size=8,\n",
        "    weight_decay=0.01,\n",
        "    warmup_ratio=0.1,\n",
        "    fp16=torch.cuda.is_available(),\n",
        "    load_best_model_at_end=True,\n",
        "    metric_for_best_model=\"eval_accuracy\",\n",
        "    logging_steps=50,\n",
        "    seed=42,\n",
        "    report_to=\"none\"\n",
        ")\n",
        "\n",
        "#  Metrics function\n",
        "accuracy = load(\"accuracy\")\n",
        "f1       = load(\"f1\")\n",
        "def compute_metrics(p):\n",
        "    preds = np.argmax(p.predictions, axis=-1)\n",
        "    return {\n",
        "        \"accuracy\": accuracy.compute(predictions=preds, references=p.label_ids)[\"accuracy\"],\n",
        "        \"macro_f1\": f1.compute(predictions=preds, references=p.label_ids, average=\"macro\")[\"f1\"]\n",
        "    }\n",
        "\n",
        "#  Trainer & training\n",
        "trainer = Trainer(\n",
        "    model=model,\n",
        "    args=args,\n",
        "    train_dataset=data[\"train\"],\n",
        "    eval_dataset=data[\"val\"],\n",
        "    compute_metrics=compute_metrics\n",
        ")\n",
        "print(\"🚀 Fine-tuning GPT-2 on Watson NLI…\")\n",
        "trainer.train()\n",
        "\n",
        "# Evaluate on validation\n",
        "val_pred = trainer.predict(data[\"val\"]).predictions.argmax(axis=-1)\n",
        "print(\"\\nValidation Report:\")\n",
        "print(classification_report(val_df[\"label\"], val_pred,\n",
        "                            target_names=[\"contradiction\",\"neutral\",\"entailment\"]))\n",
        "ConfusionMatrixDisplay.from_predictions(\n",
        "    val_df[\"label\"], val_pred,\n",
        "    display_labels=[\"C\",\"N\",\"E\"], cmap=\"Blues\"\n",
        ")\n",
        "plt.show()\n",
        "\n",
        "# Predicting on test.csv & save submission\n",
        "\n",
        "\n",
        "#   Building a HF Dataset from your test DataFrame\n",
        "test_ds = Dataset.from_pandas(test_df.reset_index(drop=True))\n",
        "\n",
        "#  Tokenize (drop *only* the columns that actually exist)\n",
        "test_drop_cols = [\"id\",\"premise\",\"hypothesis\",\"lang_abv\",\"language\"]\n",
        "tokenized_test = test_ds.map(\n",
        "    lambda batch: tokenizer(\n",
        "        batch[\"premise\"],\n",
        "        batch[\"hypothesis\"],\n",
        "        padding=\"max_length\",\n",
        "        truncation=True,\n",
        "        max_length=128\n",
        "    ),\n",
        "    batched=True,\n",
        "    remove_columns=test_drop_cols\n",
        ").with_format(\"torch\")\n",
        "\n",
        "#  Run inference\n",
        "test_preds = trainer.predict(tokenized_test).predictions.argmax(axis=-1)\n",
        "\n",
        "#  Save CSV\n",
        "submission = pd.DataFrame({\n",
        "    \"id\": test_df[\"id\"],\n",
        "    \"label\": test_preds\n",
        "})\n",
        "submission.to_csv(\"watson_submission_gpt2.csv\", index=False)\n",
        "print(\"✅ Saved watson_submission_gpt2.csv\")\n",
        "\n"
      ],
      "metadata": {
        "colab": {
          "base_uri": "https://localhost:8080/",
          "height": 1000,
          "referenced_widgets": [
            "24514dce33b242f7ba8b07aba0da76fc",
            "00a802ee3c564e36b079928eb7927e27",
            "3ec34f4a2db24b038e840f7526e1dfdd",
            "d59dd469a86b47a1afdbd6ecf25c9f04",
            "a4ddd2e109994874b7f05106c7c0db61",
            "dc2aabb7b7b8414cb7e9bc7538f362a7",
            "46231780562b4aa2b6d4fe160919dd66",
            "f72c6e20428b447796b1be5c92234b30",
            "2bcef36aeab74e338a5333c8a5833a7a",
            "e770ff8fab984f21837a4a01bf1e5b36",
            "46c1b75628744aaebd42d5b776c5baf5",
            "48217cc2c81a4c45b06fd19a8cd499ff",
            "37851672437f472db0c9be9a476c47b8",
            "92a9b14da98343f8add90150951edc34",
            "2ae85098b68145d9a3ca08af8663922f",
            "d36641a0e9104ddbb34e9e5b62ec12b3",
            "a4eb2e7222cb4876a9afde5be180d59d",
            "89d72b313b9643438d1aa647a8322231",
            "1f37ec165cfc40c8b1d8500207747f22",
            "0249602a6cc54f4e86601a14fd08db52",
            "8521031ba0f444d98c79f55e59ba38bc",
            "b4bf8eb421ca42e38fa6128d56a5798c",
            "6c3f99405bce45d29521d056f6b8083c",
            "2ba23e1e49ed48a8872f26064a446326",
            "1a83507283ae48e1abca8c287f3cfc02",
            "4c8df823c1df441494e720f5a81cfeaf",
            "e27c1eb6758d41a9b18eeadd042f0064",
            "eda05aee4a474ac19b76b030c777018f",
            "3b3ab364d92248238687479bd032f685",
            "f6279922a4564757b2fd6ca7709685d4",
            "675000d029c444dfa9d975b6b85df5ca",
            "528bce42af414e078f177b7a33602354",
            "adb6a5ffc677405eb7d5dbae9cd03255"
          ]
        },
        "id": "IIwMDbSnUVFf",
        "outputId": "e92f9cb5-64b8-42b5-9c66-52d97887eba9"
      },
      "execution_count": null,
      "outputs": [
        {
          "output_type": "stream",
          "name": "stdout",
          "text": [
            "Train: (10908, 6), Val: (1212, 6), Test: (5195, 5)\n"
          ]
        },
        {
          "output_type": "display_data",
          "data": {
            "text/plain": [
              "Map:   0%|          | 0/10908 [00:00<?, ? examples/s]"
            ],
            "application/vnd.jupyter.widget-view+json": {
              "version_major": 2,
              "version_minor": 0,
              "model_id": "24514dce33b242f7ba8b07aba0da76fc"
            }
          },
          "metadata": {}
        },
        {
          "output_type": "display_data",
          "data": {
            "text/plain": [
              "Map:   0%|          | 0/1212 [00:00<?, ? examples/s]"
            ],
            "application/vnd.jupyter.widget-view+json": {
              "version_major": 2,
              "version_minor": 0,
              "model_id": "48217cc2c81a4c45b06fd19a8cd499ff"
            }
          },
          "metadata": {}
        },
        {
          "output_type": "stream",
          "name": "stderr",
          "text": [
            "Some weights of GPT2ForSequenceClassification were not initialized from the model checkpoint at gpt2 and are newly initialized: ['score.weight']\n",
            "You should probably TRAIN this model on a down-stream task to be able to use it for predictions and inference.\n"
          ]
        },
        {
          "output_type": "stream",
          "name": "stdout",
          "text": [
            "🚀 Fine-tuning GPT-2 on Watson NLI…\n"
          ]
        },
        {
          "output_type": "display_data",
          "data": {
            "text/plain": [
              "<IPython.core.display.HTML object>"
            ],
            "text/html": [
              "\n",
              "    <div>\n",
              "      \n",
              "      <progress value='6820' max='6820' style='width:300px; height:20px; vertical-align: middle;'></progress>\n",
              "      [6820/6820 19:40, Epoch 5/5]\n",
              "    </div>\n",
              "    <table border=\"1\" class=\"dataframe\">\n",
              "  <thead>\n",
              " <tr style=\"text-align: left;\">\n",
              "      <th>Epoch</th>\n",
              "      <th>Training Loss</th>\n",
              "      <th>Validation Loss</th>\n",
              "      <th>Accuracy</th>\n",
              "      <th>Macro F1</th>\n",
              "    </tr>\n",
              "  </thead>\n",
              "  <tbody>\n",
              "    <tr>\n",
              "      <td>1</td>\n",
              "      <td>0.948900</td>\n",
              "      <td>0.990097</td>\n",
              "      <td>0.502475</td>\n",
              "      <td>0.468887</td>\n",
              "    </tr>\n",
              "    <tr>\n",
              "      <td>2</td>\n",
              "      <td>0.874900</td>\n",
              "      <td>0.863789</td>\n",
              "      <td>0.572607</td>\n",
              "      <td>0.567369</td>\n",
              "    </tr>\n",
              "    <tr>\n",
              "      <td>3</td>\n",
              "      <td>0.733500</td>\n",
              "      <td>0.879496</td>\n",
              "      <td>0.588284</td>\n",
              "      <td>0.583077</td>\n",
              "    </tr>\n",
              "    <tr>\n",
              "      <td>4</td>\n",
              "      <td>0.661700</td>\n",
              "      <td>0.978031</td>\n",
              "      <td>0.599835</td>\n",
              "      <td>0.596617</td>\n",
              "    </tr>\n",
              "    <tr>\n",
              "      <td>5</td>\n",
              "      <td>0.508300</td>\n",
              "      <td>1.080620</td>\n",
              "      <td>0.594884</td>\n",
              "      <td>0.592023</td>\n",
              "    </tr>\n",
              "  </tbody>\n",
              "</table><p>"
            ]
          },
          "metadata": {}
        },
        {
          "output_type": "display_data",
          "data": {
            "text/plain": [
              "<IPython.core.display.HTML object>"
            ],
            "text/html": []
          },
          "metadata": {}
        },
        {
          "output_type": "stream",
          "name": "stdout",
          "text": [
            "\n",
            "Validation Report:\n",
            "               precision    recall  f1-score   support\n",
            "\n",
            "contradiction       0.63      0.70      0.66       418\n",
            "      neutral       0.64      0.50      0.56       388\n",
            "   entailment       0.54      0.59      0.57       406\n",
            "\n",
            "     accuracy                           0.60      1212\n",
            "    macro avg       0.60      0.60      0.60      1212\n",
            " weighted avg       0.60      0.60      0.60      1212\n",
            "\n"
          ]
        },
        {
          "output_type": "display_data",
          "data": {
            "text/plain": [
              "<Figure size 640x480 with 2 Axes>"
            ],
            "image/png": "[encoded data removed]"
          },
          "metadata": {}
        },
        {
          "output_type": "display_data",
          "data": {
            "text/plain": [
              "Map:   0%|          | 0/5195 [00:00<?, ? examples/s]"
            ],
            "application/vnd.jupyter.widget-view+json": {
              "version_major": 2,
              "version_minor": 0,
              "model_id": "6c3f99405bce45d29521d056f6b8083c"
            }
          },
          "metadata": {}
        },
        {
          "output_type": "display_data",
          "data": {
            "text/plain": [
              "<IPython.core.display.HTML object>"
            ],
            "text/html": []
          },
          "metadata": {}
        },
        {
          "output_type": "stream",
          "name": "stdout",
          "text": [
            "✅ Saved watson_submission_gpt2.csv\n"
          ]
        }
      ]
    }
  ]
}
